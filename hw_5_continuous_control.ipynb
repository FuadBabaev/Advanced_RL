{
  "cells": [
    {
      "cell_type": "markdown",
      "metadata": {
        "id": "view-in-github",
        "colab_type": "text"
      },
      "source": [
        "<a href=\"https://colab.research.google.com/github/FuadBabaev/Advanced_RL/blob/main/hw_5_continuous_control.ipynb\" target=\"_parent\"><img src=\"https://colab.research.google.com/assets/colab-badge.svg\" alt=\"Open In Colab\"/></a>"
      ]
    },
    {
      "cell_type": "markdown",
      "metadata": {
        "id": "4rNPE5hhxi4G"
      },
      "source": [
        "# Continuous Control (2 pts)\n",
        "\n",
        "\n",
        "In this notebook you will solve continuous control environment using either [Twin Delayed DDPG (TD3)](https://arxiv.org/pdf/1802.09477.pdf) or [Soft Actor-Critic (SAC)](https://arxiv.org/pdf/1801.01290.pdf). Both are off-policy algorithms that are current go-to algorithms for continuous control tasks.\n",
        "\n",
        "**Select one** of these two algorithms (TD3 or SAC) to implement. Both algorithms are extensions of basic [Deep Deterministic Policy Gradient (DDPG)](https://arxiv.org/abs/1509.02971) algorithm, and DDPG is kind of \"DQN with another neural net approximating greedy policy\", and all that differs is a set of stabilization tricks:\n",
        "* TD3 trains deterministic policy, while SAC uses *stochastic policy*. This means that for SAC you can solve exploration-exploitation trade-off by simple sampling from policy, while in TD3 you will have to add noise to your actions.\n",
        "* TD3 proposes to stabilize targets by adding a *clipped noise* to actions, which slightly prevents overestimation. In SAC, we formally switch to formalism of Maximum Entropy RL and add *entropy bonus* into our value function.\n",
        "\n",
        "Also both algorithms utilize a *twin trick*: train two critics and use pessimistic targets by taking minimum from two proposals. Standard trick with target networks is also necessary. We will go through all these tricks step-by-step.\n",
        "\n",
        "SAC is probably less clumsy scheme than TD3, but requires a bit more code to implement. More detailed description of algorithms can be found in Spinning Up documentation:\n",
        "* on [DDPG](https://spinningup.openai.com/en/latest/algorithms/ddpg.html)\n",
        "* on [TD3](https://spinningup.openai.com/en/latest/algorithms/td3.html)\n",
        "* on [SAC](https://spinningup.openai.com/en/latest/algorithms/sac.html)"
      ]
    },
    {
      "cell_type": "markdown",
      "metadata": {
        "id": "3r48pqvnxi4J"
      },
      "source": [
        "## Environment"
      ]
    },
    {
      "cell_type": "markdown",
      "metadata": {
        "id": "GlB5d92xxi4J"
      },
      "source": [
        "For now, let's start with our environment. There are different physics simulations out there (e.g. MuJoKo), we will use PyBullet. To run the environment you will need to install\n",
        "[pybullet-gym](https://github.com/benelot/pybullet-gym):"
      ]
    },
    {
      "cell_type": "code",
      "execution_count": 1,
      "metadata": {
        "colab": {
          "base_uri": "https://localhost:8080/"
        },
        "id": "cep9fDubxi4K",
        "outputId": "0897f919-3937-45c8-aa4e-6a73621ffbf9"
      },
      "outputs": [
        {
          "output_type": "stream",
          "name": "stdout",
          "text": [
            "fatal: destination path 'lib/pybullet-gym' already exists and is not an empty directory.\n",
            "Obtaining file:///content/lib/pybullet-gym\n",
            "  Preparing metadata (setup.py) ... \u001b[?25l\u001b[?25hdone\n",
            "Requirement already satisfied: pybullet>=1.7.8 in /usr/local/lib/python3.11/dist-packages (from pybulletgym==0.1) (3.2.7)\n",
            "Installing collected packages: pybulletgym\n",
            "  Attempting uninstall: pybulletgym\n",
            "    Found existing installation: pybulletgym 0.1\n",
            "    Uninstalling pybulletgym-0.1:\n",
            "      Successfully uninstalled pybulletgym-0.1\n",
            "  Running setup.py develop for pybulletgym\n",
            "Successfully installed pybulletgym-0.1\n",
            "Requirement already satisfied: gym==0.25.2 in /usr/local/lib/python3.11/dist-packages (0.25.2)\n",
            "Requirement already satisfied: numpy>=1.18.0 in /usr/local/lib/python3.11/dist-packages (from gym==0.25.2) (1.23.5)\n",
            "Requirement already satisfied: cloudpickle>=1.2.0 in /usr/local/lib/python3.11/dist-packages (from gym==0.25.2) (3.1.1)\n",
            "Requirement already satisfied: gym-notices>=0.0.4 in /usr/local/lib/python3.11/dist-packages (from gym==0.25.2) (0.0.8)\n",
            "Requirement already satisfied: numpy==1.23.5 in /usr/local/lib/python3.11/dist-packages (1.23.5)\n"
          ]
        }
      ],
      "source": [
        "!git clone https://github.com/benelot/pybullet-gym lib/pybullet-gym\n",
        "!pip install -e lib/pybullet-gym\n",
        "!pip install gym==0.25.2\n",
        "!pip install numpy==1.23.5"
      ]
    },
    {
      "cell_type": "code",
      "execution_count": 2,
      "metadata": {
        "id": "4UxLeSprxi4L"
      },
      "outputs": [],
      "source": [
        "import gym\n",
        "import numpy as np\n",
        "import pybulletgym\n",
        "from matplotlib import pyplot as plt"
      ]
    },
    {
      "cell_type": "code",
      "source": [
        "import warnings\n",
        "warnings.filterwarnings(\"ignore\")"
      ],
      "metadata": {
        "id": "b0JP8FDrzCKI"
      },
      "execution_count": 3,
      "outputs": []
    },
    {
      "cell_type": "markdown",
      "metadata": {
        "id": "yo2PW2HIxi4L"
      },
      "source": [
        "First, we will create an instance of the environment. In `pybullet-gym`, if `render` is called before the first `reset`, then you will (hopefully) see the visualisation of 3d physic environment."
      ]
    },
    {
      "cell_type": "code",
      "execution_count": 4,
      "metadata": {
        "colab": {
          "base_uri": "https://localhost:8080/",
          "height": 661
        },
        "id": "pMYbRk6exi4L",
        "outputId": "d8ab25d3-d449-46a7-92f4-df0141cad4d8"
      },
      "outputs": [
        {
          "output_type": "stream",
          "name": "stdout",
          "text": [
            "WalkerBase::__init__\n",
            "observation space:  Box(-inf, inf, (28,), float32) \n",
            "observations: [ 0.0000000e+00  4.9394721e-06  1.0000000e+00  0.0000000e+00\n",
            "  0.0000000e+00  0.0000000e+00  0.0000000e+00 -0.0000000e+00\n",
            "  2.6101692e-02  0.0000000e+00 -1.7250181e+00  0.0000000e+00\n",
            "  4.6908379e-02  0.0000000e+00  1.7267216e+00  0.0000000e+00\n",
            "  7.1019083e-02  0.0000000e+00  1.9035708e+00  0.0000000e+00\n",
            " -1.3568671e-01  0.0000000e+00 -1.8119867e+00  0.0000000e+00\n",
            "  0.0000000e+00  0.0000000e+00  0.0000000e+00  0.0000000e+00]\n",
            "action space:  Box(-1.0, 1.0, (8,), float32) \n",
            "action_sample:  [ 0.20764853  0.9385264  -0.8942642   0.69721305  0.6813855  -0.05210985\n",
            "  0.18340683  0.2779775 ]\n",
            "observation.shape (28,)\n"
          ]
        },
        {
          "output_type": "display_data",
          "data": {
            "text/plain": [
              "<Figure size 640x480 with 1 Axes>"
            ],
            "image/png": "[encoded data removed]"
          },
          "metadata": {}
        }
      ],
      "source": [
        "env = gym.make(\"AntPyBulletEnv-v0\")\n",
        "\n",
        "# we want to look inside\n",
        "obs = env.reset()\n",
        "plt.imshow(env.render(mode=\"rgb_array\"))\n",
        "\n",
        "# examples of states and actions\n",
        "print(\"observation space: \", env.observation_space,\n",
        "      \"\\nobservations:\", env.reset())\n",
        "print(\"action space: \", env.action_space,\n",
        "      \"\\naction_sample: \", env.action_space.sample())\n",
        "print(\"observation.shape\", obs.shape)"
      ]
    },
    {
      "cell_type": "markdown",
      "metadata": {
        "id": "uRnGT57zxi4M"
      },
      "source": [
        "Let's run random policy and see how it looks."
      ]
    },
    {
      "cell_type": "code",
      "execution_count": 5,
      "metadata": {
        "id": "NKKvzUEdxi4M"
      },
      "outputs": [],
      "source": [
        "class RandomActor():\n",
        "    def get_action(self, states):\n",
        "        assert len(states.shape) == 1, \"can't work with batches\"\n",
        "        return env.action_space.sample()"
      ]
    },
    {
      "cell_type": "code",
      "execution_count": 6,
      "metadata": {
        "colab": {
          "base_uri": "https://localhost:8080/"
        },
        "id": "7Zz-Y5vWxi4M",
        "outputId": "dbe19bc1-5f97-40b7-f24a-fe54e7d72025"
      },
      "outputs": [
        {
          "output_type": "stream",
          "name": "stdout",
          "text": [
            "done:  163\n",
            "done:  1163\n",
            "done:  2163\n",
            "done:  3163\n",
            "done:  4163\n",
            "done:  4821\n",
            "done:  5821\n",
            "done:  6821\n",
            "done:  7821\n",
            "done:  8821\n",
            "done:  9821\n"
          ]
        }
      ],
      "source": [
        "s = env.reset()\n",
        "rewards_per_step = []\n",
        "actor = RandomActor()\n",
        "\n",
        "for i in range(10000):\n",
        "    a = actor.get_action(s)\n",
        "    s, r, done, _ = env.step(a)\n",
        "\n",
        "    rewards_per_step.append(r)\n",
        "\n",
        "    if done:\n",
        "        s = env.reset()\n",
        "        print(\"done: \", i)"
      ]
    },
    {
      "cell_type": "markdown",
      "metadata": {
        "id": "2YzZB9Ndxi4N"
      },
      "source": [
        "So, basically most episodes are 1000 steps long (then happens termination by time), though sometimes we are terminated earlier if simulation discovers some obvious reasons to think that we crashed our ant. Important thing about continuous control tasks like this is that we receive non-trivial signal at each step:"
      ]
    },
    {
      "cell_type": "code",
      "execution_count": 7,
      "metadata": {
        "colab": {
          "base_uri": "https://localhost:8080/"
        },
        "id": "Y0ZGRpawxi4N",
        "outputId": "0befbb0d-db37-4d70-a115-50f602ab5b86"
      },
      "outputs": [
        {
          "output_type": "execute_result",
          "data": {
            "text/plain": [
              "[0.5751463031716412,\n",
              " 0.5789740977270412,\n",
              " 0.5939285230560927,\n",
              " 0.39626781881961504,\n",
              " 0.47353799262054963,\n",
              " 0.5294336691731587,\n",
              " 0.5541068140082643,\n",
              " 0.5442611160629894,\n",
              " 0.5527535651737707,\n",
              " 0.5513263161468785]"
            ]
          },
          "metadata": {},
          "execution_count": 7
        }
      ],
      "source": [
        "rewards_per_step[100:110]"
      ]
    },
    {
      "cell_type": "markdown",
      "metadata": {
        "id": "ayKEGcbDxi4N"
      },
      "source": [
        "This dense signal will guide our optimizations. It also partially explains why off-policy algorithms are more effective and sample-efficient than on-policy algorithms like PPO: 1-step targets are already quite informative."
      ]
    },
    {
      "cell_type": "code",
      "execution_count": 8,
      "metadata": {
        "id": "XDCubtCnxi4N"
      },
      "outputs": [],
      "source": [
        "env.close()"
      ]
    },
    {
      "cell_type": "markdown",
      "metadata": {
        "id": "g_ahdLYhxi4N"
      },
      "source": [
        "We will add only one wrapper to our environment to simply write summaries, mainly, the total reward during an episode."
      ]
    },
    {
      "cell_type": "code",
      "source": [
        "! pip install tensorboardX"
      ],
      "metadata": {
        "colab": {
          "base_uri": "https://localhost:8080/"
        },
        "id": "neGNvLVXymNB",
        "outputId": "9706ea5a-64e2-4470-9005-1e2211e9673c"
      },
      "execution_count": 10,
      "outputs": [
        {
          "output_type": "stream",
          "name": "stdout",
          "text": [
            "Collecting tensorboardX\n",
            "  Downloading tensorboardX-2.6.2.2-py2.py3-none-any.whl.metadata (5.8 kB)\n",
            "Requirement already satisfied: numpy in /usr/local/lib/python3.11/dist-packages (from tensorboardX) (1.23.5)\n",
            "Requirement already satisfied: packaging in /usr/local/lib/python3.11/dist-packages (from tensorboardX) (24.2)\n",
            "Requirement already satisfied: protobuf>=3.20 in /usr/local/lib/python3.11/dist-packages (from tensorboardX) (5.29.4)\n",
            "Downloading tensorboardX-2.6.2.2-py2.py3-none-any.whl (101 kB)\n",
            "\u001b[?25l   \u001b[90m━━━━━━━━━━━━━━━━━━━━━━━━━━━━━━━━━━━━━━━━\u001b[0m \u001b[32m0.0/101.7 kB\u001b[0m \u001b[31m?\u001b[0m eta \u001b[36m-:--:--\u001b[0m\r\u001b[2K   \u001b[90m━━━━━━━━━━━━━━━━━━━━━━━━━━━━━━━━━━━━━━━━\u001b[0m \u001b[32m101.7/101.7 kB\u001b[0m \u001b[31m3.5 MB/s\u001b[0m eta \u001b[36m0:00:00\u001b[0m\n",
            "\u001b[?25hInstalling collected packages: tensorboardX\n",
            "Successfully installed tensorboardX-2.6.2.2\n"
          ]
        }
      ]
    },
    {
      "cell_type": "code",
      "execution_count": 11,
      "metadata": {
        "colab": {
          "base_uri": "https://localhost:8080/"
        },
        "id": "1qXRqBzMxi4N",
        "outputId": "e497ee36-c155-411e-b92d-171df8af01e3"
      },
      "outputs": [
        {
          "output_type": "stream",
          "name": "stdout",
          "text": [
            "WalkerBase::__init__\n"
          ]
        }
      ],
      "source": [
        "from logger import TensorboardSummaries as Summaries\n",
        "\n",
        "env = gym.make(\"AntPyBulletEnv-v0\")\n",
        "env = Summaries(env, \"MyFirstWalkingAnt\");\n",
        "\n",
        "state_dim = env.observation_space.shape[0]  # dimension of state space (28 numbers)\n",
        "action_dim = env.action_space.shape[0]      # dimension of action space (8 numbers)"
      ]
    },
    {
      "cell_type": "markdown",
      "metadata": {
        "id": "BvbyKHjsxi4O"
      },
      "source": [
        "## Models"
      ]
    },
    {
      "cell_type": "markdown",
      "metadata": {
        "id": "dMCdRltVxi4O"
      },
      "source": [
        "Let's start with *critic* model. On the one hand, it will function as an approximation of $Q^*(s, a)$, on the other hand it evaluates current actor $\\pi$ and can be viewed as $Q^{\\pi}(s, a)$. This critic will take both state $s$ and action $a$ as input and output a scalar value. Recommended architecture is 3-layered MLP.\n",
        "\n",
        "**Danger:** when models have a scalar output it is a good rule to squeeze it to avoid unexpected broadcasting, since [batch_size, 1] broadcasts with many tensor sizes."
      ]
    },
    {
      "cell_type": "code",
      "execution_count": null,
      "metadata": {
        "id": "ETw0Ik6xxi4O"
      },
      "outputs": [],
      "source": [
        "import torch\n",
        "import torch.nn as nn\n",
        "DEVICE = \"cuda\" if torch.cuda.is_available() else \"cpu\"\n",
        "\n",
        "class Critic(nn.Module):\n",
        "    def __init__(self, state_dim, action_dim):\n",
        "        super().__init__()\n",
        "\n",
        "        self.model = nn.Sequential(\n",
        "            nn.Linear(state_dim + action_dim, 128),\n",
        "            nn.ReLU(),\n",
        "            nn.Linear(128, 128),\n",
        "            nn.ReLU(),\n",
        "            nn.Linear(128, 1),\n",
        "        )\n",
        "\n",
        "    def get_qvalues(self, states, actions):\n",
        "        '''\n",
        "        input:\n",
        "            states - tensor, (batch_size x features)\n",
        "            actions - tensor, (batch_size x actions_dim)\n",
        "        output:\n",
        "            qvalues - tensor, critic estimation, (batch_size)\n",
        "        '''\n",
        "        states_actions = torch.cat([states, actions], dim=1)\n",
        "        qvalues = self.model(states_actions).squeeze()\n",
        "\n",
        "        assert len(qvalues.shape) == 1 and qvalues.shape[0] == states.shape[0]\n",
        "\n",
        "        return qvalues"
      ]
    },
    {
      "cell_type": "markdown",
      "metadata": {
        "id": "WeHXXLxZxi4O"
      },
      "source": [
        "Next, let's define a policy, or an actor $\\pi$. Use architecture, similar to critic (3-layered MLP). The output depends on algorithm:\n",
        "\n",
        "For **TD3**, model *deterministic policy*. You should output `action_dim` numbers in range $[-1, 1]$. Unfortunately, deterministic policies lead to problems with stability and exploration, so we will need three \"modes\" of how this policy can be operating:\n",
        "* First one - greedy - is a simple feedforward pass through network that will be used to train the actor.\n",
        "* Second one - exploration mode - is when we need to add noise (e.g. Gaussian) to our actions to collect more diverse data.\n",
        "* Third mode - \"clipped noised\" - will be used when we will require a target for critic, where we need to somehow \"noise\" our actor output, but not too much, so we add *clipped noise* to our output:\n",
        "$$\\pi_{\\theta}(s) + \\varepsilon, \\quad \\varepsilon = \\operatorname{clip}(\\epsilon, -0.5, 0.5), \\epsilon \\sim \\mathcal{N}(0, \\sigma^2 I)$$"
      ]
    },
    {
      "cell_type": "code",
      "execution_count": null,
      "metadata": {
        "id": "6FghiJPyxi4O"
      },
      "outputs": [],
      "source": [
        "# template for TD3; template for SAC is below\n",
        "class TD3_Actor(nn.Module):\n",
        "    def __init__(self, state_dim, action_dim):\n",
        "        super().__init__()\n",
        "\n",
        "        self.model = nn.Sequential(\n",
        "            nn.Linear(state_dim, 128),\n",
        "            nn.ReLU(),\n",
        "            nn.Linear(128, 128),\n",
        "            nn.ReLU(),\n",
        "            nn.Linear(128, action_dim)\n",
        "        )\n",
        "        self.activation = nn.Tanh()\n",
        "\n",
        "    def forward(self, states):\n",
        "        return self.activation(self.model(states))\n",
        "\n",
        "    def get_action(self, states, std_noise=0.1):\n",
        "        '''\n",
        "        Used to collect data by interacting with environment,\n",
        "        so your have to add some noise to actions.\n",
        "        input:\n",
        "            states - numpy, (batch_size x features)\n",
        "        output:\n",
        "            actions - numpy, (batch_size x actions_dim)\n",
        "        '''\n",
        "        with torch.no_grad():\n",
        "            device = next(self.parameters()).device\n",
        "            states_torch = torch.as_tensor(states, device=device)\n",
        "            actions = self.forward(states_torch).cpu().numpy()\n",
        "\n",
        "            noise = np.random.normal(0, std_noise, size=actions.shape)\n",
        "            actions = np.clip(actions + noise, -1, 1)\n",
        "\n",
        "            return actions\n",
        "\n",
        "    def get_best_action(self, states):\n",
        "        '''\n",
        "        Will be used to optimize actor. Requires differentiable w.r.t. parameters actions.\n",
        "        input:\n",
        "            states - PyTorch tensor, (batch_size x features)\n",
        "        output:\n",
        "            actions - PyTorch tensor, (batch_size x actions_dim)\n",
        "        '''\n",
        "        actions = self.forward(states)\n",
        "\n",
        "        assert actions.requires_grad, \"you must be able to compute gradients through actions\"\n",
        "        return actions\n",
        "\n",
        "    def get_target_action(self, states, std_noise=0.2, clip_eta=0.5):\n",
        "        '''\n",
        "        Will be used to create target for critic optimization.\n",
        "        Returns actions with added \"clipped noise\".\n",
        "        input:\n",
        "            states - PyTorch tensor, (batch_size x features)\n",
        "        output:\n",
        "            actions - PyTorch tensor, (batch_size x actions_dim)\n",
        "        '''\n",
        "        # no gradient computation is required here since we will use this only for interaction\n",
        "        with torch.no_grad():\n",
        "            actions =  self.forward(states)\n",
        "            noise = torch.clip(torch.normal(0, std_noise, size=actions.shape), -clip_eta, clip_eta)\n",
        "\n",
        "            # actions can fly out of [-1, 1] range after added noise\n",
        "            return actions.clamp(-1, 1)"
      ]
    },
    {
      "cell_type": "markdown",
      "metadata": {
        "id": "M-30WoUuxi4O"
      },
      "source": [
        "For **SAC**, model *gaussian policy*. This means policy distribution is going to be multivariate normal with diagonal covariance. The policy head will predict the mean and covariance, and it should be guaranteed that covariance is non-negative. **Important:** the way you model covariance strongly influences optimization procedure, so here are some options: let $f_{\\theta}$ be the output of covariance head, then:\n",
        "* use exponential function $\\sigma(s) = \\exp(f_{\\theta}(s))$\n",
        "* transform output to $[-1, 1]$ using `tanh`, then project output to some interval $[m, M]$, where $m = -20$, $M = 2$ and then use exponential function. This will guarantee the range of modeled covariance is adequate. So, the resulting formula is:\n",
        "$$\\sigma(s) = \\exp^{m + 0.5(M - m)(\\tanh(f_{\\theta}(s)) + 1)}$$\n",
        "* `softplus` operation $\\sigma(s) = \\log(1 + \\exp^{f_{\\theta}(s)})$ seems to work poorly here. o_O\n",
        "\n",
        "**Note**: `torch.distributions.Normal` already has everything you will need to work with such policy after you modeled mean and covariance, i.e. sampling via reparametrization trick (see `rsample` method) and compute log probability (see `log_prob` method).\n",
        "\n",
        "There is one more problem with gaussian distribution. We need to force our actions to be in $[-1, 1]$ bound. To achieve this, model unbounded gaussian $\\mathcal{N}(\\mu_{\\theta}(s), \\sigma_{\\theta}(s)^2I)$, where $\\mu$ can be arbitrary. Then every time you have samples $u$ from this gaussian policy, squash it using $\\operatorname{tanh}$ function to get a sample from $[-1, 1]$:\n",
        "$$u \\sim \\mathcal{N}(\\mu, \\sigma^2I)$$\n",
        "$$a = \\operatorname{tanh}(u)$$\n",
        "\n",
        "**Important:** after that you are required to use change of variable formula every time you compute likelihood (see appendix C in [paper on SAC](https://arxiv.org/pdf/1801.01290.pdf) for details):\n",
        "$$\\log p(a \\mid \\mu, \\sigma) = \\log p(u \\mid \\mu, \\sigma) - \\sum_{i = 1}^D \\log (1 - \\operatorname{tanh}^2(u_i)),$$\n",
        "where $D$ is `action_dim`. In practice, add something like 1e-6 inside logarithm to protect from computational instabilities."
      ]
    },
    {
      "cell_type": "markdown",
      "metadata": {
        "id": "9OZnvBU-xi4P"
      },
      "source": [
        "## ReplayBuffer\n",
        "\n",
        "The same as in DQN. You can copy code from your DQN assignment, just check that it works fine with continuous actions (probably it is).\n",
        "\n",
        "Let's recall the interface:\n",
        "* `exp_replay.add(obs, act, rw, next_obs, done)` - saves (s,a,r,s',done) tuple into the buffer\n",
        "* `exp_replay.sample(batch_size)` - returns observations, actions, rewards, next_observations and is_done for `batch_size` random samples.\n",
        "* `len(exp_replay)` - returns number of elements stored in replay buffer."
      ]
    },
    {
      "cell_type": "code",
      "execution_count": null,
      "metadata": {
        "id": "Y8x97L3exi4P"
      },
      "outputs": [],
      "source": [
        "class ReplayBuffer():\n",
        "    def __init__(self, size):\n",
        "        \"\"\"\n",
        "        Create Replay buffer.\n",
        "        Parameters\n",
        "        ----------\n",
        "        size: int\n",
        "            Max number of transitions to store in the buffer. When the buffer\n",
        "            overflows the old memories are dropped.\n",
        "\n",
        "        Note: for this assignment you can pick any data structure you want.\n",
        "              If you want to keep it simple, you can store a list of tuples of (s, a, r, s') in self._storage\n",
        "              However you may find out there are faster and/or more memory-efficient ways to do so.\n",
        "        \"\"\"\n",
        "        self._storage = []\n",
        "        self._maxsize = size\n",
        "        self.next_idx  = 0\n",
        "\n",
        "    def __len__(self):\n",
        "        return len(self._storage)\n",
        "\n",
        "    def add(self, obs_t, action, reward, obs_tp1, done):\n",
        "        '''\n",
        "        Make sure, _storage will not exceed _maxsize.\n",
        "        Make sure, FIFO rule is being followed: the oldest examples has to be removed earlier\n",
        "        '''\n",
        "        data = (obs_t, action, reward, obs_tp1, done)\n",
        "        storage = self._storage\n",
        "        maxsize = self._maxsize\n",
        "        if self.next_idx >= len(storage):\n",
        "            storage.append(data)\n",
        "        else:\n",
        "            storage[self.next_idx] = data\n",
        "\n",
        "        self.next_idx = (self.next_idx + 1) % maxsize\n",
        "\n",
        "    def sample(self, batch_size):\n",
        "        \"\"\"Sample a batch of experiences.\n",
        "        Parameters\n",
        "        ----------\n",
        "        batch_size: int\n",
        "            How many transitions to sample.\n",
        "        Returns\n",
        "        -------\n",
        "        obs_batch: np.array\n",
        "            batch of observations\n",
        "        act_batch: np.array\n",
        "            batch of actions executed given obs_batch\n",
        "        rew_batch: np.array\n",
        "            rewards received as results of executing act_batch\n",
        "        next_obs_batch: np.array\n",
        "            next set of observations seen after executing act_batch\n",
        "        done_mask: np.array\n",
        "            done_mask[i] = 1 if executing act_batch[i] resulted in\n",
        "            the end of an episode and 0 otherwise.\n",
        "        \"\"\"\n",
        "        n = len(self._storage)\n",
        "        indices = np.random.choice(n, batch_size, replace=False)\n",
        "\n",
        "        states, actions, rewards, next_states, dones = [], [], [], [], []\n",
        "        for idx in indices:\n",
        "            state, action, reward, next_state, done = self._storage[idx]\n",
        "            states.append(np.array(state, copy=False))\n",
        "            actions.append(np.array(action, copy=False))\n",
        "            rewards.append(reward)\n",
        "            next_states.append(np.array(next_state, copy=False))\n",
        "            dones.append(done)\n",
        "\n",
        "        return (\n",
        "            np.array(states),\n",
        "            np.array(actions),\n",
        "            np.array(rewards),\n",
        "            np.array(next_states),\n",
        "            np.array(dones)\n",
        "        )"
      ]
    },
    {
      "cell_type": "code",
      "execution_count": 15,
      "metadata": {
        "id": "1ZZPJa7qxi4P"
      },
      "outputs": [],
      "source": [
        "exp_replay = ReplayBuffer(10)\n",
        "\n",
        "for _ in range(30):\n",
        "    exp_replay.add(env.reset(), env.action_space.sample(),\n",
        "                   1.0, env.reset(), done=False)\n",
        "\n",
        "obs_batch, act_batch, reward_batch, next_obs_batch, is_done_batch = exp_replay.sample(\n",
        "    5)\n",
        "\n",
        "assert len(exp_replay) == 10, \"experience replay size should be 10 because that's what maximum capacity is\""
      ]
    },
    {
      "cell_type": "code",
      "execution_count": 17,
      "metadata": {
        "id": "dEJYmkknxi4P"
      },
      "outputs": [],
      "source": [
        "def play_and_record(initial_state, agent, env, exp_replay, n_steps=1):\n",
        "    \"\"\"\n",
        "    Play the game for exactly n steps, record every (s,a,r,s', done) to replay buffer.\n",
        "    Whenever game ends, add record with done=True and reset the game.\n",
        "    It is guaranteed that env has done=False when passed to this function.\n",
        "\n",
        "    :returns: return sum of rewards over time and the state in which the env stays\n",
        "    \"\"\"\n",
        "    s = initial_state\n",
        "    sum_rewards = 0\n",
        "\n",
        "    # Play the game for n_steps as per instructions above\n",
        "    for t in range(n_steps):\n",
        "\n",
        "        # select action using policy with exploration\n",
        "        a = agent.get_action(s)\n",
        "\n",
        "        ns, r, done, _ = env.step(a)\n",
        "\n",
        "        exp_replay.add(s, a, r, ns, done)\n",
        "\n",
        "        s = env.reset() if done else ns\n",
        "\n",
        "        sum_rewards += r\n",
        "\n",
        "    return sum_rewards, s"
      ]
    },
    {
      "cell_type": "code",
      "execution_count": 21,
      "metadata": {
        "colab": {
          "base_uri": "https://localhost:8080/"
        },
        "id": "_PXTm2Ycxi4Q",
        "outputId": "8a5e5594-ff31-46e2-bba3-c38d6510e1b7"
      },
      "outputs": [
        {
          "output_type": "stream",
          "name": "stdout",
          "text": [
            "Well done!\n"
          ]
        }
      ],
      "source": [
        "#testing your code.\n",
        "exp_replay = ReplayBuffer(2000)\n",
        "actor = TD3_Actor(state_dim, action_dim).to(DEVICE)\n",
        "\n",
        "state = env.reset()\n",
        "play_and_record(state, actor, env, exp_replay, n_steps=1000)\n",
        "\n",
        "# if you're using your own experience replay buffer, some of those tests may need correction.\n",
        "# just make sure you know what your code does\n",
        "assert len(exp_replay) == 1000, \"play_and_record should have added exactly 1000 steps, \"\\\n",
        "                                 \"but instead added %i\" % len(exp_replay)\n",
        "is_dones = list(zip(*exp_replay._storage))[-1]\n",
        "\n",
        "assert 0 < np.mean(is_dones) < 0.1, \"Please make sure you restart the game whenever it is 'done' and record the is_done correctly into the buffer.\"\\\n",
        "                                    \"Got %f is_done rate over %i steps. [If you think it's your tough luck, just re-run the test]\" % (\n",
        "                                        np.mean(is_dones), len(exp_replay))\n",
        "\n",
        "for _ in range(100):\n",
        "    obs_batch, act_batch, reward_batch, next_obs_batch, is_done_batch = exp_replay.sample(\n",
        "        10)\n",
        "    assert obs_batch.shape == next_obs_batch.shape == (10,) + (state_dim,)\n",
        "    assert act_batch.shape == (\n",
        "        10, action_dim), \"actions batch should have shape (10, 8) but is instead %s\" % str(act_batch.shape)\n",
        "    assert reward_batch.shape == (\n",
        "        10,), \"rewards batch should have shape (10,) but is instead %s\" % str(reward_batch.shape)\n",
        "    assert is_done_batch.shape == (\n",
        "        10,), \"is_done batch should have shape (10,) but is instead %s\" % str(is_done_batch.shape)\n",
        "    assert [int(i) in (0, 1)\n",
        "            for i in is_dones], \"is_done should be strictly True or False\"\n",
        "\n",
        "print(\"Well done!\")"
      ]
    },
    {
      "cell_type": "markdown",
      "metadata": {
        "id": "rh_uHA33xi4Q"
      },
      "source": [
        "## Initialization\n",
        "\n",
        "Let's start initializing our algorithm. Here is our hyperparameters:"
      ]
    },
    {
      "cell_type": "code",
      "execution_count": 22,
      "metadata": {
        "id": "IeRMI9U6xi4Q"
      },
      "outputs": [],
      "source": [
        "gamma=0.99                    # discount factor\n",
        "max_buffer_size = 10**5       # size of experience replay\n",
        "start_timesteps = 5000        # size of experience replay when start training\n",
        "timesteps_per_epoch=1         # steps in environment per step of network updates\n",
        "batch_size=128                # batch size for all optimizations\n",
        "max_grad_norm=10              # max grad norm for all optimizations\n",
        "tau=0.005                     # speed of updating target networks\n",
        "policy_update_freq=2          # frequency of actor update; vanilla choice is 2 for TD3 or 1 for SAC\n",
        "alpha=0.1                     # temperature for SAC\n",
        "\n",
        "# iterations passed\n",
        "n_iterations = 0"
      ]
    },
    {
      "cell_type": "markdown",
      "metadata": {
        "id": "6D5HcJEPxi4Q"
      },
      "source": [
        "Here is our experience replay:"
      ]
    },
    {
      "cell_type": "code",
      "execution_count": 23,
      "metadata": {
        "id": "PfDD7lusxi4Q"
      },
      "outputs": [],
      "source": [
        "# experience replay\n",
        "exp_replay = ReplayBuffer(max_buffer_size)"
      ]
    },
    {
      "cell_type": "markdown",
      "metadata": {
        "id": "i-jGrWtIxi4Q"
      },
      "source": [
        "Here is our models: *two* critics and one actor."
      ]
    },
    {
      "cell_type": "code",
      "execution_count": 24,
      "metadata": {
        "id": "xEcMPkyLxi4Q"
      },
      "outputs": [],
      "source": [
        "# models to train\n",
        "actor = TD3_Actor(state_dim, action_dim).to(DEVICE)\n",
        "critic1 = Critic(state_dim, action_dim).to(DEVICE)\n",
        "critic2 = Critic(state_dim, action_dim).to(DEVICE)"
      ]
    },
    {
      "cell_type": "markdown",
      "metadata": {
        "id": "47i5dWzPxi4R"
      },
      "source": [
        "To stabilize training, we will require **target networks** - slow updating copies of our models. In **TD3**, both critics and actor have their copies, in **SAC** it is assumed that only critics require target copies while actor is always used fresh."
      ]
    },
    {
      "cell_type": "code",
      "execution_count": 25,
      "metadata": {
        "colab": {
          "base_uri": "https://localhost:8080/"
        },
        "id": "Y3D4c-WTxi4R",
        "outputId": "148754ed-dbdd-4b3d-e482-1803f20679f1"
      },
      "outputs": [
        {
          "output_type": "execute_result",
          "data": {
            "text/plain": [
              "<All keys matched successfully>"
            ]
          },
          "metadata": {},
          "execution_count": 25
        }
      ],
      "source": [
        "# target networks: slow-updated copies of actor and two critics\n",
        "target_critic1 = Critic(state_dim, action_dim).to(DEVICE)\n",
        "target_critic2 = Critic(state_dim, action_dim).to(DEVICE)\n",
        "target_actor = TD3_Actor(state_dim, action_dim).to(DEVICE)  # comment this line if you chose SAC\n",
        "\n",
        "# initialize them as copies of original models\n",
        "target_critic1.load_state_dict(critic1.state_dict())\n",
        "target_critic2.load_state_dict(critic2.state_dict())\n",
        "target_actor.load_state_dict(actor.state_dict())            # comment this line if you chose SAC"
      ]
    },
    {
      "cell_type": "markdown",
      "metadata": {
        "id": "99a4gYQBxi4R"
      },
      "source": [
        "In continuous control, target networks are usually updated using exponential smoothing:\n",
        "$$\\theta^{-} \\leftarrow \\tau \\theta + (1 - \\tau) \\theta^{-},$$\n",
        "where $\\theta^{-}$ are target network weights, $\\theta$ - fresh parameters, $\\tau$ - hyperparameter. This util function will do it:"
      ]
    },
    {
      "cell_type": "code",
      "execution_count": 26,
      "metadata": {
        "id": "hkiQilzExi4R"
      },
      "outputs": [],
      "source": [
        "def update_target_networks(model, target_model):\n",
        "    for param, target_param in zip(model.parameters(), target_model.parameters()):\n",
        "          target_param.data.copy_(tau * param.data + (1 - tau) * target_param.data)"
      ]
    },
    {
      "cell_type": "markdown",
      "metadata": {
        "id": "jUgQjXTNxi4R"
      },
      "source": [
        "Finally, we will have three optimization procedures to train our three models, so let's welcome our three Adams:"
      ]
    },
    {
      "cell_type": "code",
      "execution_count": 27,
      "metadata": {
        "id": "BV1HwZPoxi4V"
      },
      "outputs": [],
      "source": [
        "# optimizers: for every model we have\n",
        "opt_actor = torch.optim.Adam(actor.parameters(), lr=3e-4)\n",
        "opt_critic1 = torch.optim.Adam(critic1.parameters(), lr=3e-4)\n",
        "opt_critic2 = torch.optim.Adam(critic2.parameters(), lr=3e-4)"
      ]
    },
    {
      "cell_type": "code",
      "source": [
        "# just to avoid writing this code three times\n",
        "def optimize(name, model, optimizer, loss):\n",
        "    '''\n",
        "    Makes one step of SGD optimization, clips norm with max_grad_norm and\n",
        "    logs everything into tensorboard\n",
        "    '''\n",
        "    loss = loss.mean()\n",
        "    optimizer.zero_grad()\n",
        "    loss.backward()\n",
        "    grad_norm = nn.utils.clip_grad_norm_(model.parameters(), max_grad_norm)\n",
        "    optimizer.step()\n",
        "\n",
        "    # logging\n",
        "    env.writer.add_scalar(name, loss.item(), n_iterations)\n",
        "    env.writer.add_scalar(name + \"_grad_norm\", grad_norm.item(), n_iterations)"
      ],
      "metadata": {
        "id": "7sEyaWY6zY0c"
      },
      "execution_count": 29,
      "outputs": []
    },
    {
      "cell_type": "markdown",
      "metadata": {
        "id": "eR2cnpu4xi4V"
      },
      "source": [
        "## Critic target computation"
      ]
    },
    {
      "cell_type": "markdown",
      "metadata": {
        "id": "LHH6rRkUxi4V"
      },
      "source": [
        "Finally, let's discuss our losses for critic and actor.\n",
        "\n",
        "To train both critics we would like to minimize MSE using 1-step targets: for one sampled transition $(s, a, r, s')$ it should look something like this:\n",
        "$$y(s, a) = r + \\gamma V(s').$$\n",
        "\n",
        "How do we evaluate next state and compute $V(s')$? Well, technically Monte-Carlo estimation looks simple:\n",
        "$$V(s') \\approx Q(s', a')$$\n",
        "where (important!) $a'$ is a sample from our current policy $\\pi(a' \\mid s')$.\n",
        "\n",
        "But out actor $\\pi$ will be actually trained to search for actions $a'$ where our critic gives big estimates, and this straightforward approach leads to serious overesimation issues. We require some hacks. First, we will use target networks for $Q$ (and **TD3** also uses target network for $\\pi$). Second, we will use *two* critics and take minimum across their estimations:\n",
        "$$V(s') = \\min_{i = 1,2} Q^{-}_i(s', a'),$$\n",
        "where $a'$ is sampled from target policy $\\pi^{-}(a' \\mid s')$ in **TD3** and from fresh policy $\\pi(a' \\mid s')$ in **SAC**.\n",
        "\n",
        "###### And the last but not the least:\n",
        "* in **TD3** to compute $a'$ use *mode with clipped noise* that will prevent our policy from exploiting narrow peaks in our critic approximation;\n",
        "* in **SAC** add (estimation of) entropy bonus in next state $s'$:\n",
        "$$V(s') = \\min_{i = 1,2} Q^{-}_i(s', a') - \\alpha \\log \\pi (a' \\mid s')$$"
      ]
    },
    {
      "cell_type": "code",
      "execution_count": 30,
      "metadata": {
        "id": "jnkehOOKxi4W"
      },
      "outputs": [],
      "source": [
        "def compute_critic_target(rewards, next_states, is_done):\n",
        "    '''\n",
        "    Important: use target networks for this method! Do not use \"fresh\" models except fresh policy in SAC!\n",
        "    input:\n",
        "        rewards - PyTorch tensor, (batch_size)\n",
        "        next_states - PyTorch tensor, (batch_size x features)\n",
        "        is_done - PyTorch tensor, (batch_size)\n",
        "    output:\n",
        "        critic target - PyTorch tensor, (batch_size)\n",
        "    '''\n",
        "    with torch.no_grad():\n",
        "\n",
        "        actions = actor.get_target_action(next_states)\n",
        "        critic_target = rewards + gamma * (1 - is_done) * torch.min(target_critic1.get_qvalues(next_states, actions), target_critic2.get_qvalues(next_states, actions))\n",
        "\n",
        "    assert not critic_target.requires_grad, \"target must not require grad.\"\n",
        "    assert len(critic_target.shape) == 1, \"dangerous extra dimension in target?\"\n",
        "\n",
        "    return critic_target"
      ]
    },
    {
      "cell_type": "markdown",
      "metadata": {
        "id": "p_4Jo-EIxi4W"
      },
      "source": [
        "To train actor we want simply to maximize\n",
        "$$\\mathbb{E}_{a \\sim \\pi(a \\mid s)} Q(s, a) \\to \\max_{\\pi}$$\n",
        "\n",
        "* in **TD3**, because of deterministic policy, the expectation reduces:\n",
        "$$Q(s, \\pi(s)) \\to \\max_{\\pi}$$\n",
        "* in **SAC**, use reparametrization trick to compute gradients and also do not forget to add entropy regularizer to motivate policy to be as stochastic as possible:\n",
        "$$\\mathbb{E}_{a \\sim \\pi(a \\mid s)} Q(s, a) - \\alpha \\log \\pi(a \\mid s) \\to \\max_{\\pi}$$\n",
        "\n",
        "**Note:** We will use (fresh) critic1 here as Q-functon to \"exploit\". You can also use both critics and again take minimum across their estimations (this is done in original implementation of **SAC** and not done in **TD3**), but this seems to be not of high importance."
      ]
    },
    {
      "cell_type": "code",
      "execution_count": 31,
      "metadata": {
        "id": "uZLr_r2Xxi4W"
      },
      "outputs": [],
      "source": [
        "def compute_actor_loss(states):\n",
        "    '''\n",
        "    Returns actor loss on batch of states\n",
        "    input:\n",
        "        states - PyTorch tensor, (batch_size x features)\n",
        "    output:\n",
        "        actor loss - PyTorch tensor, (batch_size)\n",
        "    '''\n",
        "    # make sure you have gradients w.r.t. actor parameters\n",
        "    actions = actor.get_best_action(states)\n",
        "\n",
        "    assert actions.requires_grad, \"actions must be differentiable with respect to policy parameters\"\n",
        "\n",
        "    # compute actor loss\n",
        "    actor_loss = -torch.min(critic1.get_qvalues(states, actions), critic2.get_qvalues(states, actions)).mean()\n",
        "    return actor_loss"
      ]
    },
    {
      "cell_type": "markdown",
      "metadata": {
        "id": "lvfek225xi4W"
      },
      "source": [
        "# Pipeline"
      ]
    },
    {
      "cell_type": "markdown",
      "metadata": {
        "id": "qKZ84PDSxi4W"
      },
      "source": [
        "Finally combining all together and launching our algorithm. Your goal is to reach at least 1000 average reward during evaluation after training in this ant environment (*since this is a new hometask, this threshold might be updated, so at least just see if your ant learned to walk in the rendered simulation*).\n",
        "\n",
        "* rewards should rise more or less steadily in this environment. There can be some drops due to instabilities of algorithm, but it should eventually start rising after 100K-200K iterations. If no progress in reward is observed after these first 100K-200K iterations, there is a bug.\n",
        "* gradient norm appears to be quite big for this task, it is ok if it reaches 100-200 (we handled it with clip_grad_norm). Consider everything exploded if it starts growing exponentially, then there is a bug."
      ]
    },
    {
      "cell_type": "code",
      "execution_count": 32,
      "metadata": {
        "id": "vARNtbnFxi4W"
      },
      "outputs": [],
      "source": [
        "seed = 239\n",
        "np.random.seed(seed)\n",
        "env.unwrapped.seed(seed)\n",
        "torch.manual_seed(seed);"
      ]
    },
    {
      "cell_type": "code",
      "source": [
        "env1 = env\n",
        "env1.reset()"
      ],
      "metadata": {
        "colab": {
          "base_uri": "https://localhost:8080/"
        },
        "id": "ncCtlq8czrnn",
        "outputId": "f61369a2-5c8a-42f4-bb40-43dc3bda3ab3"
      },
      "execution_count": 36,
      "outputs": [
        {
          "output_type": "execute_result",
          "data": {
            "text/plain": [
              "array([ 0.00000000e+00,  3.47809532e-06,  1.00000000e+00,  0.00000000e+00,\n",
              "        0.00000000e+00,  0.00000000e+00,  0.00000000e+00, -0.00000000e+00,\n",
              "        5.31985499e-02,  0.00000000e+00, -2.00886106e+00,  0.00000000e+00,\n",
              "        7.47115612e-02,  0.00000000e+00,  1.91710556e+00,  0.00000000e+00,\n",
              "        1.24532126e-01,  0.00000000e+00,  2.00817418e+00,  0.00000000e+00,\n",
              "       -1.31066833e-02,  0.00000000e+00, -1.82999289e+00,  0.00000000e+00,\n",
              "        0.00000000e+00,  0.00000000e+00,  0.00000000e+00,  0.00000000e+00],\n",
              "      dtype=float32)"
            ]
          },
          "metadata": {},
          "execution_count": 36
        }
      ]
    },
    {
      "cell_type": "code",
      "execution_count": 37,
      "metadata": {
        "colab": {
          "base_uri": "https://localhost:8080/",
          "height": 728
        },
        "id": "HvOjQvFQxi4X",
        "outputId": "a9810acd-dd65-4dea-ef44-320e38deff18"
      },
      "outputs": [
        {
          "output_type": "stream",
          "name": "stdout",
          "text": [
            "Iteration = 500000, Mean_reward = 1883.9570489420262\n"
          ]
        },
        {
          "output_type": "display_data",
          "data": {
            "text/plain": [
              "<Figure size 640x480 with 1 Axes>"
            ],
            "image/png": "[encoded data removed]"
          },
          "metadata": {}
        },
        {
          "output_type": "error",
          "ename": "KeyboardInterrupt",
          "evalue": "",
          "traceback": [
            "\u001b[0;31m---------------------------------------------------------------------------\u001b[0m",
            "\u001b[0;31mKeyboardInterrupt\u001b[0m                         Traceback (most recent call last)",
            "\u001b[0;32m<ipython-input-37-66d9bb7629c4>\u001b[0m in \u001b[0;36m<cell line: 0>\u001b[0;34m()\u001b[0m\n\u001b[1;32m     50\u001b[0m             \u001b[0;31m# update target networks\u001b[0m\u001b[0;34m\u001b[0m\u001b[0;34m\u001b[0m\u001b[0m\n\u001b[1;32m     51\u001b[0m             \u001b[0mupdate_target_networks\u001b[0m\u001b[0;34m(\u001b[0m\u001b[0mcritic1\u001b[0m\u001b[0;34m,\u001b[0m \u001b[0mtarget_critic1\u001b[0m\u001b[0;34m)\u001b[0m\u001b[0;34m\u001b[0m\u001b[0;34m\u001b[0m\u001b[0m\n\u001b[0;32m---> 52\u001b[0;31m             \u001b[0mupdate_target_networks\u001b[0m\u001b[0;34m(\u001b[0m\u001b[0mcritic2\u001b[0m\u001b[0;34m,\u001b[0m \u001b[0mtarget_critic2\u001b[0m\u001b[0;34m)\u001b[0m\u001b[0;34m\u001b[0m\u001b[0;34m\u001b[0m\u001b[0m\n\u001b[0m\u001b[1;32m     53\u001b[0m             \u001b[0mupdate_target_networks\u001b[0m\u001b[0;34m(\u001b[0m\u001b[0mactor\u001b[0m\u001b[0;34m,\u001b[0m \u001b[0mtarget_actor\u001b[0m\u001b[0;34m)\u001b[0m                     \u001b[0;31m# comment this line if you chose SAC\u001b[0m\u001b[0;34m\u001b[0m\u001b[0;34m\u001b[0m\u001b[0m\n\u001b[1;32m     54\u001b[0m \u001b[0;34m\u001b[0m\u001b[0m\n",
            "\u001b[0;32m<ipython-input-26-d2e37c206334>\u001b[0m in \u001b[0;36mupdate_target_networks\u001b[0;34m(model, target_model)\u001b[0m\n\u001b[1;32m      1\u001b[0m \u001b[0;32mdef\u001b[0m \u001b[0mupdate_target_networks\u001b[0m\u001b[0;34m(\u001b[0m\u001b[0mmodel\u001b[0m\u001b[0;34m,\u001b[0m \u001b[0mtarget_model\u001b[0m\u001b[0;34m)\u001b[0m\u001b[0;34m:\u001b[0m\u001b[0;34m\u001b[0m\u001b[0;34m\u001b[0m\u001b[0m\n\u001b[1;32m      2\u001b[0m     \u001b[0;32mfor\u001b[0m \u001b[0mparam\u001b[0m\u001b[0;34m,\u001b[0m \u001b[0mtarget_param\u001b[0m \u001b[0;32min\u001b[0m \u001b[0mzip\u001b[0m\u001b[0;34m(\u001b[0m\u001b[0mmodel\u001b[0m\u001b[0;34m.\u001b[0m\u001b[0mparameters\u001b[0m\u001b[0;34m(\u001b[0m\u001b[0;34m)\u001b[0m\u001b[0;34m,\u001b[0m \u001b[0mtarget_model\u001b[0m\u001b[0;34m.\u001b[0m\u001b[0mparameters\u001b[0m\u001b[0;34m(\u001b[0m\u001b[0;34m)\u001b[0m\u001b[0;34m)\u001b[0m\u001b[0;34m:\u001b[0m\u001b[0;34m\u001b[0m\u001b[0;34m\u001b[0m\u001b[0m\n\u001b[0;32m----> 3\u001b[0;31m           \u001b[0mtarget_param\u001b[0m\u001b[0;34m.\u001b[0m\u001b[0mdata\u001b[0m\u001b[0;34m.\u001b[0m\u001b[0mcopy_\u001b[0m\u001b[0;34m(\u001b[0m\u001b[0mtau\u001b[0m \u001b[0;34m*\u001b[0m \u001b[0mparam\u001b[0m\u001b[0;34m.\u001b[0m\u001b[0mdata\u001b[0m \u001b[0;34m+\u001b[0m \u001b[0;34m(\u001b[0m\u001b[0;36m1\u001b[0m \u001b[0;34m-\u001b[0m \u001b[0mtau\u001b[0m\u001b[0;34m)\u001b[0m \u001b[0;34m*\u001b[0m \u001b[0mtarget_param\u001b[0m\u001b[0;34m.\u001b[0m\u001b[0mdata\u001b[0m\u001b[0;34m)\u001b[0m\u001b[0;34m\u001b[0m\u001b[0;34m\u001b[0m\u001b[0m\n\u001b[0m",
            "\u001b[0;31mKeyboardInterrupt\u001b[0m: "
          ]
        }
      ],
      "source": [
        "from tqdm.notebook import trange, tqdm\n",
        "from IPython.display import clear_output\n",
        "import matplotlib.pyplot as plt\n",
        "import sys\n",
        "\n",
        "interaction_state = env.reset()\n",
        "random_actor = RandomActor()\n",
        "\n",
        "display_freq = 10000\n",
        "history_reward = []\n",
        "\n",
        "with trange(0, 1_000_000, timesteps_per_epoch) as progress_bar:\n",
        "\n",
        "    for n_iterations in progress_bar:\n",
        "        # if experience replay is small yet, no training happens\n",
        "        # we also collect data using random policy to collect more diverse starting data\n",
        "        if len(exp_replay) < start_timesteps:\n",
        "            _, interaction_state = play_and_record(interaction_state, random_actor, env, exp_replay, timesteps_per_epoch)\n",
        "            continue\n",
        "\n",
        "        # perform a step in environment and store it in experience replay\n",
        "        _, interaction_state = play_and_record(interaction_state, actor, env, exp_replay, timesteps_per_epoch)\n",
        "\n",
        "        # sample a batch from experience replay\n",
        "        states, actions, rewards, next_states, is_done = exp_replay.sample(batch_size)\n",
        "\n",
        "        # move everything to PyTorch tensors\n",
        "        states = torch.tensor(states, device=DEVICE, dtype=torch.float)\n",
        "        actions = torch.tensor(actions, device=DEVICE, dtype=torch.float)\n",
        "        rewards = torch.tensor(rewards, device=DEVICE, dtype=torch.float)\n",
        "        next_states = torch.tensor(next_states, device=DEVICE, dtype=torch.float)\n",
        "        is_done = torch.tensor(\n",
        "            is_done.astype('float32'),\n",
        "            device=DEVICE,\n",
        "            dtype=torch.float\n",
        "        )\n",
        "\n",
        "        # losses\n",
        "        critic1_loss = ((critic1.get_qvalues(states, actions) - compute_critic_target(rewards, next_states, is_done)) ** 2).mean() #<YOUR CODE>\n",
        "        optimize(\"critic1\", critic1, opt_critic1, critic1_loss)\n",
        "\n",
        "        critic2_loss = ((critic2.get_qvalues(states, actions) - compute_critic_target(rewards, next_states, is_done)) ** 2).mean()#<YOUR CODE>\n",
        "        optimize(\"critic2\", critic2, opt_critic2, critic2_loss)\n",
        "\n",
        "        # actor update is less frequent in TD3\n",
        "        if n_iterations % policy_update_freq == 0:\n",
        "            actor_loss = compute_actor_loss(states) #<YOUR CODE>\n",
        "            optimize(\"actor\", actor, opt_actor, actor_loss)\n",
        "\n",
        "            # update target networks\n",
        "            update_target_networks(critic1, target_critic1)\n",
        "            update_target_networks(critic2, target_critic2)\n",
        "            update_target_networks(actor, target_actor)                     # comment this line if you chose SAC\n",
        "\n",
        "        if n_iterations % display_freq == 0:\n",
        "            mean_reward = evaluate(env1, actor, n_games=5).mean()\n",
        "            history_reward.append(mean_reward)\n",
        "            clear_output()\n",
        "            print(f\"Iteration = {n_iterations}, Mean_reward = {mean_reward}\")\n",
        "            plt.plot(range(0, n_iterations + 1, display_freq),  history_reward)\n",
        "            plt.show()"
      ]
    },
    {
      "cell_type": "markdown",
      "metadata": {
        "id": "rXwqcmNsxi4X"
      },
      "source": [
        "## Evaluation"
      ]
    },
    {
      "cell_type": "code",
      "execution_count": 38,
      "metadata": {
        "id": "dQHd0vnOxi4X"
      },
      "outputs": [],
      "source": [
        "def evaluate(env, actor, n_games=1, t_max=1000):\n",
        "    '''\n",
        "    Plays n_games and returns rewards and rendered games\n",
        "    '''\n",
        "    rewards = []\n",
        "\n",
        "    for _ in range(n_games):\n",
        "        s = env.reset()\n",
        "\n",
        "        R = 0\n",
        "        for _ in range(t_max):\n",
        "            # select action for final evaluation of your policy\n",
        "            action = actor.get_action(s, 0.0)\n",
        "\n",
        "            assert (action.max() <= 1).all() and  (action.min() >= -1).all()\n",
        "\n",
        "            s, r, done, _ = env.step(action)\n",
        "\n",
        "            R += r\n",
        "\n",
        "            if done:\n",
        "                break\n",
        "\n",
        "        rewards.append(R)\n",
        "    return np.array(rewards)"
      ]
    },
    {
      "cell_type": "code",
      "execution_count": 39,
      "metadata": {
        "colab": {
          "base_uri": "https://localhost:8080/"
        },
        "id": "fGzydWCfxi4X",
        "outputId": "aab53738-c201-46d4-de13-936f1e17521d"
      },
      "outputs": [
        {
          "output_type": "stream",
          "name": "stdout",
          "text": [
            "Your score: 1819.6559434036317\n",
            "Well done!\n"
          ]
        }
      ],
      "source": [
        "# evaluation will take some time!\n",
        "sessions = evaluate(env, actor, n_games=20)\n",
        "score = sessions.mean()\n",
        "print(f\"Your score: {score}\")\n",
        "\n",
        "assert score >= 1000, \"Needs more training?\"\n",
        "print(\"Well done!\")"
      ]
    },
    {
      "cell_type": "code",
      "execution_count": 40,
      "metadata": {
        "id": "5khcRfsYxi4X"
      },
      "outputs": [],
      "source": [
        "env.close()"
      ]
    },
    {
      "cell_type": "markdown",
      "metadata": {
        "id": "8A2H6-Pnxi4Y"
      },
      "source": [
        "## Record"
      ]
    },
    {
      "cell_type": "code",
      "execution_count": 42,
      "metadata": {
        "id": "VoKOpf1Lxi4Y",
        "colab": {
          "base_uri": "https://localhost:8080/"
        },
        "outputId": "5771eb7b-3b43-42b3-c0b6-c01d3d33039f"
      },
      "outputs": [
        {
          "output_type": "stream",
          "name": "stdout",
          "text": [
            "WalkerBase::__init__\n"
          ]
        },
        {
          "output_type": "execute_result",
          "data": {
            "text/plain": [
              "array([], dtype=float64)"
            ]
          },
          "metadata": {},
          "execution_count": 42
        }
      ],
      "source": [
        "env = gym.make(\"AntPyBulletEnv-v0\")\n",
        "\n",
        "# we want to look inside\n",
        "env.reset()\n",
        "env.render(mode=\"human\")"
      ]
    },
    {
      "cell_type": "code",
      "execution_count": 47,
      "metadata": {
        "id": "p6THPkJKxi4Y",
        "colab": {
          "base_uri": "https://localhost:8080/",
          "height": 176
        },
        "outputId": "3462938e-0c0c-498f-ea66-580608a44714"
      },
      "outputs": [
        {
          "output_type": "error",
          "ename": "AttributeError",
          "evalue": "module 'gym.wrappers' has no attribute 'Monitor'",
          "traceback": [
            "\u001b[0;31m---------------------------------------------------------------------------\u001b[0m",
            "\u001b[0;31mAttributeError\u001b[0m                            Traceback (most recent call last)",
            "\u001b[0;32m<ipython-input-47-e937a55ef57d>\u001b[0m in \u001b[0;36m<cell line: 0>\u001b[0;34m()\u001b[0m\n\u001b[1;32m      1\u001b[0m \u001b[0;31m# let's hope this will work\u001b[0m\u001b[0;34m\u001b[0m\u001b[0;34m\u001b[0m\u001b[0m\n\u001b[1;32m      2\u001b[0m \u001b[0;31m# don't forget to pray\u001b[0m\u001b[0;34m\u001b[0m\u001b[0;34m\u001b[0m\u001b[0m\n\u001b[0;32m----> 3\u001b[0;31m \u001b[0menv\u001b[0m \u001b[0;34m=\u001b[0m \u001b[0mgym\u001b[0m\u001b[0;34m.\u001b[0m\u001b[0mwrappers\u001b[0m\u001b[0;34m.\u001b[0m\u001b[0mMonitor\u001b[0m\u001b[0;34m(\u001b[0m\u001b[0menv\u001b[0m\u001b[0;34m,\u001b[0m \u001b[0mdirectory\u001b[0m\u001b[0;34m=\u001b[0m\u001b[0;34m\"videos\"\u001b[0m\u001b[0;34m,\u001b[0m \u001b[0mforce\u001b[0m\u001b[0;34m=\u001b[0m\u001b[0;32mTrue\u001b[0m\u001b[0;34m)\u001b[0m\u001b[0;34m\u001b[0m\u001b[0;34m\u001b[0m\u001b[0m\n\u001b[0m",
            "\u001b[0;31mAttributeError\u001b[0m: module 'gym.wrappers' has no attribute 'Monitor'"
          ]
        }
      ],
      "source": [
        "# let's hope this will work\n",
        "# don't forget to pray\n",
        "env = gym.wrappers.Monitor(env, directory=\"videos\", force=True)"
      ]
    },
    {
      "cell_type": "code",
      "execution_count": 44,
      "metadata": {
        "id": "vdrJ-05Rxi4Y",
        "colab": {
          "base_uri": "https://localhost:8080/"
        },
        "outputId": "79fe6bf0-e51a-45c7-b13c-af700cdc7aa8"
      },
      "outputs": [
        {
          "output_type": "execute_result",
          "data": {
            "text/plain": [
              "array([516.20043212])"
            ]
          },
          "metadata": {},
          "execution_count": 44
        }
      ],
      "source": [
        "# record sessions\n",
        "# note that t_max is 300, so collected reward will be smaller than 1000\n",
        "evaluate(env, actor, n_games=1, t_max=300)"
      ]
    },
    {
      "cell_type": "code",
      "execution_count": 45,
      "metadata": {
        "id": "t2F8e8Cfxi4Y"
      },
      "outputs": [],
      "source": [
        "env.close()"
      ]
    },
    {
      "cell_type": "markdown",
      "metadata": {
        "id": "lN96NU_7xi4Y"
      },
      "source": [
        "### Report\n",
        "\n",
        "We'd like to collect some statistics about computational resources you spent on this task. Please, report:\n",
        "* which GPU or CPU you used: T4 in Colab\n",
        "* number of iterations you used for training: 500_000\n",
        "* wall-clock time spent (on computation =D): ~3.2h"
      ]
    },
    {
      "cell_type": "code",
      "source": [],
      "metadata": {
        "id": "TFvqHIUzfqBb"
      },
      "execution_count": null,
      "outputs": []
    }
  ],
  "metadata": {
    "kernelspec": {
      "display_name": "Python 3",
      "name": "python3"
    },
    "language_info": {
      "codemirror_mode": {
        "name": "ipython",
        "version": 3
      },
      "file_extension": ".py",
      "mimetype": "text/x-python",
      "name": "python",
      "nbconvert_exporter": "python",
      "pygments_lexer": "ipython3",
      "version": "3.9.20"
    },
    "colab": {
      "provenance": [],
      "gpuType": "T4",
      "include_colab_link": true
    },
    "accelerator": "GPU"
  },
  "nbformat": 4,
  "nbformat_minor": 0
}